{
 "cells": [
  {
   "cell_type": "code",
   "execution_count": 1,
   "metadata": {},
   "outputs": [],
   "source": [
    "import numpy as np\n",
    "import pandas as pd\n",
    "PREVIOUS_MAX_ROWS = pd.options.display.max_rows\n",
    "pd.options.display.max_rows = 20\n",
    "np.random.seed(12345)\n",
    "import matplotlib.pyplot as plt\n",
    "import matplotlib\n",
    "plt.rc('figure', figsize=(10, 6))\n",
    "np.set_printoptions(precision=4, suppress=True)\n",
    "from IPython.core.interactiveshell import InteractiveShell\n",
    "InteractiveShell.ast_node_interactivity='all'"
   ]
  },
  {
   "cell_type": "code",
   "execution_count": 8,
   "metadata": {},
   "outputs": [],
   "source": [
    "import requests\n",
    "import json"
   ]
  },
  {
   "cell_type": "code",
   "execution_count": 9,
   "metadata": {},
   "outputs": [],
   "source": [
    "req = requests.get('http://wthrcdn.etouch.cn/weather_mini?citykey=101010100')"
   ]
  },
  {
   "cell_type": "code",
   "execution_count": 10,
   "metadata": {},
   "outputs": [
    {
     "data": {
      "text/plain": [
       "'{\"data\":{\"yesterday\":{\"date\":\"12日星期二\",\"high\":\"高温 19℃\",\"fx\":\"西风\",\"low\":\"低温 5℃\",\"fl\":\"<![CDATA[<3级]]>\",\"type\":\"多云\"},\"city\":\"北京\",\"forecast\":[{\"date\":\"13日星期三\",\"high\":\"高温 8℃\",\"fengli\":\"<![CDATA[4-5级]]>\",\"low\":\"低温 -3℃\",\"fengxiang\":\"西北风\",\"type\":\"晴\"},{\"date\":\"14日星期四\",\"high\":\"高温 8℃\",\"fengli\":\"<![CDATA[<3级]]>\",\"low\":\"低温 -2℃\",\"fengxiang\":\"东风\",\"type\":\"晴\"},{\"date\":\"15日星期五\",\"high\":\"高温 12℃\",\"fengli\":\"<![CDATA[<3级]]>\",\"low\":\"低温 -1℃\",\"fengxiang\":\"东风\",\"type\":\"晴\"},{\"date\":\"16日星期六\",\"high\":\"高温 12℃\",\"fengli\":\"<![CDATA[<3级]]>\",\"low\":\"低温 4℃\",\"fengxiang\":\"东风\",\"type\":\"晴\"},{\"date\":\"17日星期天\",\"high\":\"高温 12℃\",\"fengli\":\"<![CDATA[5-6级]]>\",\"low\":\"低温 -2℃\",\"fengxiang\":\"西北风\",\"type\":\"多云\"}],\"ganmao\":\"将有一次强降温过程，天气寒冷，且风力较强，极易发生感冒，请特别注意增加衣服保暖防寒。\",\"wendu\":\"5\"},\"status\":1000,\"desc\":\"OK\"}'"
      ]
     },
     "execution_count": 10,
     "metadata": {},
     "output_type": "execute_result"
    }
   ],
   "source": [
    "req.text"
   ]
  },
  {
   "cell_type": "code",
   "execution_count": 15,
   "metadata": {},
   "outputs": [
    {
     "data": {
      "text/plain": [
       "{'data': {'yesterday': {'date': '12日星期二',\n",
       "   'high': '高温 19℃',\n",
       "   'fx': '西风',\n",
       "   'low': '低温 5℃',\n",
       "   'fl': '<![CDATA[<3级]]>',\n",
       "   'type': '多云'},\n",
       "  'city': '北京',\n",
       "  'forecast': [{'date': '13日星期三',\n",
       "    'high': '高温 8℃',\n",
       "    'fengli': '<![CDATA[4-5级]]>',\n",
       "    'low': '低温 -3℃',\n",
       "    'fengxiang': '西北风',\n",
       "    'type': '晴'},\n",
       "   {'date': '14日星期四',\n",
       "    'high': '高温 8℃',\n",
       "    'fengli': '<![CDATA[<3级]]>',\n",
       "    'low': '低温 -2℃',\n",
       "    'fengxiang': '东风',\n",
       "    'type': '晴'},\n",
       "   {'date': '15日星期五',\n",
       "    'high': '高温 12℃',\n",
       "    'fengli': '<![CDATA[<3级]]>',\n",
       "    'low': '低温 -1℃',\n",
       "    'fengxiang': '东风',\n",
       "    'type': '晴'},\n",
       "   {'date': '16日星期六',\n",
       "    'high': '高温 12℃',\n",
       "    'fengli': '<![CDATA[<3级]]>',\n",
       "    'low': '低温 4℃',\n",
       "    'fengxiang': '东风',\n",
       "    'type': '晴'},\n",
       "   {'date': '17日星期天',\n",
       "    'high': '高温 12℃',\n",
       "    'fengli': '<![CDATA[5-6级]]>',\n",
       "    'low': '低温 -2℃',\n",
       "    'fengxiang': '西北风',\n",
       "    'type': '多云'}],\n",
       "  'ganmao': '将有一次强降温过程，天气寒冷，且风力较强，极易发生感冒，请特别注意增加衣服保暖防寒。',\n",
       "  'wendu': '5'},\n",
       " 'status': 1000,\n",
       " 'desc': 'OK'}"
      ]
     },
     "execution_count": 15,
     "metadata": {},
     "output_type": "execute_result"
    }
   ],
   "source": [
    "req_city = json.loads(req.text)\n",
    "req_city"
   ]
  },
  {
   "cell_type": "code",
   "execution_count": 20,
   "metadata": {},
   "outputs": [
    {
     "data": {
      "text/plain": [
       "['data', 'status', 'desc']"
      ]
     },
     "execution_count": 20,
     "metadata": {},
     "output_type": "execute_result"
    }
   ],
   "source": [
    "list(req_city.keys())"
   ]
  },
  {
   "cell_type": "code",
   "execution_count": 23,
   "metadata": {},
   "outputs": [
    {
     "data": {
      "text/plain": [
       "['O', 'K']"
      ]
     },
     "execution_count": 23,
     "metadata": {},
     "output_type": "execute_result"
    }
   ],
   "source": [
    "list(req_city['desc'])"
   ]
  },
  {
   "cell_type": "code",
   "execution_count": 31,
   "metadata": {},
   "outputs": [
    {
     "data": {
      "text/plain": [
       "{'yesterday': {'date': '12日星期二',\n",
       "  'high': '高温 19℃',\n",
       "  'fx': '西风',\n",
       "  'low': '低温 5℃',\n",
       "  'fl': '<![CDATA[<3级]]>',\n",
       "  'type': '多云'},\n",
       " 'city': '北京',\n",
       " 'forecast': [{'date': '13日星期三',\n",
       "   'high': '高温 8℃',\n",
       "   'fengli': '<![CDATA[4-5级]]>',\n",
       "   'low': '低温 -3℃',\n",
       "   'fengxiang': '西北风',\n",
       "   'type': '晴'},\n",
       "  {'date': '14日星期四',\n",
       "   'high': '高温 8℃',\n",
       "   'fengli': '<![CDATA[<3级]]>',\n",
       "   'low': '低温 -2℃',\n",
       "   'fengxiang': '东风',\n",
       "   'type': '晴'},\n",
       "  {'date': '15日星期五',\n",
       "   'high': '高温 12℃',\n",
       "   'fengli': '<![CDATA[<3级]]>',\n",
       "   'low': '低温 -1℃',\n",
       "   'fengxiang': '东风',\n",
       "   'type': '晴'},\n",
       "  {'date': '16日星期六',\n",
       "   'high': '高温 12℃',\n",
       "   'fengli': '<![CDATA[<3级]]>',\n",
       "   'low': '低温 4℃',\n",
       "   'fengxiang': '东风',\n",
       "   'type': '晴'},\n",
       "  {'date': '17日星期天',\n",
       "   'high': '高温 12℃',\n",
       "   'fengli': '<![CDATA[5-6级]]>',\n",
       "   'low': '低温 -2℃',\n",
       "   'fengxiang': '西北风',\n",
       "   'type': '多云'}],\n",
       " 'ganmao': '将有一次强降温过程，天气寒冷，且风力较强，极易发生感冒，请特别注意增加衣服保暖防寒。',\n",
       " 'wendu': '5'}"
      ]
     },
     "execution_count": 31,
     "metadata": {},
     "output_type": "execute_result"
    }
   ],
   "source": [
    "weath = req_city.get('data')\n",
    "weath"
   ]
  },
  {
   "cell_type": "code",
   "execution_count": 40,
   "metadata": {},
   "outputs": [
    {
     "data": {
      "text/plain": [
       "{'date': '13日星期三',\n",
       " 'high': '高温 8℃',\n",
       " 'fengli': '<![CDATA[4-5级]]>',\n",
       " 'low': '低温 -3℃',\n",
       " 'fengxiang': '西北风',\n",
       " 'type': '晴'}"
      ]
     },
     "execution_count": 40,
     "metadata": {},
     "output_type": "execute_result"
    }
   ],
   "source": [
    "weath['forecast'][0]"
   ]
  },
  {
   "cell_type": "code",
   "execution_count": 45,
   "metadata": {},
   "outputs": [
    {
     "data": {
      "text/plain": [
       "'13日星期三'"
      ]
     },
     "execution_count": 45,
     "metadata": {},
     "output_type": "execute_result"
    }
   ],
   "source": [
    "weath['forecast'][0].get('date')"
   ]
  },
  {
   "cell_type": "code",
   "execution_count": null,
   "metadata": {},
   "outputs": [],
   "source": []
  }
 ],
 "metadata": {
  "kernelspec": {
   "display_name": "Python 3",
   "language": "python",
   "name": "python3"
  },
  "language_info": {
   "codemirror_mode": {
    "name": "ipython",
    "version": 3
   },
   "file_extension": ".py",
   "mimetype": "text/x-python",
   "name": "python",
   "nbconvert_exporter": "python",
   "pygments_lexer": "ipython3",
   "version": "3.7.1"
  },
  "pycharm": {
   "stem_cell": {
    "cell_type": "raw",
    "metadata": {
     "collapsed": false
    },
    "source": []
   }
  },
  "toc": {
   "base_numbering": 1,
   "nav_menu": {},
   "number_sections": true,
   "sideBar": true,
   "skip_h1_title": false,
   "title_cell": "Table of Contents",
   "title_sidebar": "Contents",
   "toc_cell": false,
   "toc_position": {},
   "toc_section_display": true,
   "toc_window_display": false
  }
 },
 "nbformat": 4,
 "nbformat_minor": 1
}
